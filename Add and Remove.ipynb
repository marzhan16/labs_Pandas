{
 "cells": [
  {
   "cell_type": "code",
   "execution_count": 1,
   "metadata": {},
   "outputs": [],
   "source": [
    "people = {\n",
    "    'name' : ['Aslan', 'Zhuldyz', 'Azamat', 'Kamila'],\n",
    "    'surname' : ['Tolegazinov', 'Gabitova', 'Bolatov', 'Hamitova'],\n",
    "    'email' : ['aslan.tol@gamil.com', 'zhuldyz99@gmail.com', 'azamat.g@mail.ru', 'kami.hamitova@yandex.ru']\n",
    "}"
   ]
  },
  {
   "cell_type": "code",
   "execution_count": 2,
   "metadata": {},
   "outputs": [],
   "source": [
    "import pandas as pd"
   ]
  },
  {
   "cell_type": "code",
   "execution_count": 3,
   "metadata": {},
   "outputs": [],
   "source": [
    "df = pd.DataFrame(people)"
   ]
  },
  {
   "cell_type": "code",
   "execution_count": 4,
   "metadata": {},
   "outputs": [
    {
     "data": {
      "text/html": [
       "<div>\n",
       "<style scoped>\n",
       "    .dataframe tbody tr th:only-of-type {\n",
       "        vertical-align: middle;\n",
       "    }\n",
       "\n",
       "    .dataframe tbody tr th {\n",
       "        vertical-align: top;\n",
       "    }\n",
       "\n",
       "    .dataframe thead th {\n",
       "        text-align: right;\n",
       "    }\n",
       "</style>\n",
       "<table border=\"1\" class=\"dataframe\">\n",
       "  <thead>\n",
       "    <tr style=\"text-align: right;\">\n",
       "      <th></th>\n",
       "      <th>name</th>\n",
       "      <th>surname</th>\n",
       "      <th>email</th>\n",
       "    </tr>\n",
       "  </thead>\n",
       "  <tbody>\n",
       "    <tr>\n",
       "      <th>0</th>\n",
       "      <td>Aslan</td>\n",
       "      <td>Tolegazinov</td>\n",
       "      <td>aslan.tol@gamil.com</td>\n",
       "    </tr>\n",
       "    <tr>\n",
       "      <th>1</th>\n",
       "      <td>Zhuldyz</td>\n",
       "      <td>Gabitova</td>\n",
       "      <td>zhuldyz99@gmail.com</td>\n",
       "    </tr>\n",
       "    <tr>\n",
       "      <th>2</th>\n",
       "      <td>Azamat</td>\n",
       "      <td>Bolatov</td>\n",
       "      <td>azamat.g@mail.ru</td>\n",
       "    </tr>\n",
       "    <tr>\n",
       "      <th>3</th>\n",
       "      <td>Kamila</td>\n",
       "      <td>Hamitova</td>\n",
       "      <td>kami.hamitova@yandex.ru</td>\n",
       "    </tr>\n",
       "  </tbody>\n",
       "</table>\n",
       "</div>"
      ],
      "text/plain": [
       "      name      surname                    email\n",
       "0    Aslan  Tolegazinov      aslan.tol@gamil.com\n",
       "1  Zhuldyz     Gabitova      zhuldyz99@gmail.com\n",
       "2   Azamat      Bolatov         azamat.g@mail.ru\n",
       "3   Kamila     Hamitova  kami.hamitova@yandex.ru"
      ]
     },
     "execution_count": 4,
     "metadata": {},
     "output_type": "execute_result"
    }
   ],
   "source": [
    "df"
   ]
  },
  {
   "cell_type": "code",
   "execution_count": 5,
   "metadata": {},
   "outputs": [
    {
     "data": {
      "text/plain": [
       "0    Aslan Tolegazinov\n",
       "1     Zhuldyz Gabitova\n",
       "2       Azamat Bolatov\n",
       "3      Kamila Hamitova\n",
       "dtype: object"
      ]
     },
     "execution_count": 5,
     "metadata": {},
     "output_type": "execute_result"
    }
   ],
   "source": [
    "df['name'] + \" \" + df['surname']"
   ]
  },
  {
   "cell_type": "code",
   "execution_count": 6,
   "metadata": {},
   "outputs": [
    {
     "data": {
      "text/html": [
       "<div>\n",
       "<style scoped>\n",
       "    .dataframe tbody tr th:only-of-type {\n",
       "        vertical-align: middle;\n",
       "    }\n",
       "\n",
       "    .dataframe tbody tr th {\n",
       "        vertical-align: top;\n",
       "    }\n",
       "\n",
       "    .dataframe thead th {\n",
       "        text-align: right;\n",
       "    }\n",
       "</style>\n",
       "<table border=\"1\" class=\"dataframe\">\n",
       "  <thead>\n",
       "    <tr style=\"text-align: right;\">\n",
       "      <th></th>\n",
       "      <th>name</th>\n",
       "      <th>surname</th>\n",
       "      <th>email</th>\n",
       "    </tr>\n",
       "  </thead>\n",
       "  <tbody>\n",
       "    <tr>\n",
       "      <th>0</th>\n",
       "      <td>Aslan</td>\n",
       "      <td>Tolegazinov</td>\n",
       "      <td>aslan.tol@gamil.com</td>\n",
       "    </tr>\n",
       "    <tr>\n",
       "      <th>1</th>\n",
       "      <td>Zhuldyz</td>\n",
       "      <td>Gabitova</td>\n",
       "      <td>zhuldyz99@gmail.com</td>\n",
       "    </tr>\n",
       "    <tr>\n",
       "      <th>2</th>\n",
       "      <td>Azamat</td>\n",
       "      <td>Bolatov</td>\n",
       "      <td>azamat.g@mail.ru</td>\n",
       "    </tr>\n",
       "    <tr>\n",
       "      <th>3</th>\n",
       "      <td>Kamila</td>\n",
       "      <td>Hamitova</td>\n",
       "      <td>kami.hamitova@yandex.ru</td>\n",
       "    </tr>\n",
       "  </tbody>\n",
       "</table>\n",
       "</div>"
      ],
      "text/plain": [
       "      name      surname                    email\n",
       "0    Aslan  Tolegazinov      aslan.tol@gamil.com\n",
       "1  Zhuldyz     Gabitova      zhuldyz99@gmail.com\n",
       "2   Azamat      Bolatov         azamat.g@mail.ru\n",
       "3   Kamila     Hamitova  kami.hamitova@yandex.ru"
      ]
     },
     "execution_count": 6,
     "metadata": {},
     "output_type": "execute_result"
    }
   ],
   "source": [
    "df"
   ]
  },
  {
   "cell_type": "code",
   "execution_count": 7,
   "metadata": {},
   "outputs": [],
   "source": [
    "df['full name'] = df['name'] + \" \" + df['surname']"
   ]
  },
  {
   "cell_type": "code",
   "execution_count": 8,
   "metadata": {},
   "outputs": [
    {
     "data": {
      "text/html": [
       "<div>\n",
       "<style scoped>\n",
       "    .dataframe tbody tr th:only-of-type {\n",
       "        vertical-align: middle;\n",
       "    }\n",
       "\n",
       "    .dataframe tbody tr th {\n",
       "        vertical-align: top;\n",
       "    }\n",
       "\n",
       "    .dataframe thead th {\n",
       "        text-align: right;\n",
       "    }\n",
       "</style>\n",
       "<table border=\"1\" class=\"dataframe\">\n",
       "  <thead>\n",
       "    <tr style=\"text-align: right;\">\n",
       "      <th></th>\n",
       "      <th>name</th>\n",
       "      <th>surname</th>\n",
       "      <th>email</th>\n",
       "      <th>full name</th>\n",
       "    </tr>\n",
       "  </thead>\n",
       "  <tbody>\n",
       "    <tr>\n",
       "      <th>0</th>\n",
       "      <td>Aslan</td>\n",
       "      <td>Tolegazinov</td>\n",
       "      <td>aslan.tol@gamil.com</td>\n",
       "      <td>Aslan Tolegazinov</td>\n",
       "    </tr>\n",
       "    <tr>\n",
       "      <th>1</th>\n",
       "      <td>Zhuldyz</td>\n",
       "      <td>Gabitova</td>\n",
       "      <td>zhuldyz99@gmail.com</td>\n",
       "      <td>Zhuldyz Gabitova</td>\n",
       "    </tr>\n",
       "    <tr>\n",
       "      <th>2</th>\n",
       "      <td>Azamat</td>\n",
       "      <td>Bolatov</td>\n",
       "      <td>azamat.g@mail.ru</td>\n",
       "      <td>Azamat Bolatov</td>\n",
       "    </tr>\n",
       "    <tr>\n",
       "      <th>3</th>\n",
       "      <td>Kamila</td>\n",
       "      <td>Hamitova</td>\n",
       "      <td>kami.hamitova@yandex.ru</td>\n",
       "      <td>Kamila Hamitova</td>\n",
       "    </tr>\n",
       "  </tbody>\n",
       "</table>\n",
       "</div>"
      ],
      "text/plain": [
       "      name      surname                    email          full name\n",
       "0    Aslan  Tolegazinov      aslan.tol@gamil.com  Aslan Tolegazinov\n",
       "1  Zhuldyz     Gabitova      zhuldyz99@gmail.com   Zhuldyz Gabitova\n",
       "2   Azamat      Bolatov         azamat.g@mail.ru     Azamat Bolatov\n",
       "3   Kamila     Hamitova  kami.hamitova@yandex.ru    Kamila Hamitova"
      ]
     },
     "execution_count": 8,
     "metadata": {},
     "output_type": "execute_result"
    }
   ],
   "source": [
    "df"
   ]
  },
  {
   "cell_type": "code",
   "execution_count": 9,
   "metadata": {},
   "outputs": [
    {
     "data": {
      "text/html": [
       "<div>\n",
       "<style scoped>\n",
       "    .dataframe tbody tr th:only-of-type {\n",
       "        vertical-align: middle;\n",
       "    }\n",
       "\n",
       "    .dataframe tbody tr th {\n",
       "        vertical-align: top;\n",
       "    }\n",
       "\n",
       "    .dataframe thead th {\n",
       "        text-align: right;\n",
       "    }\n",
       "</style>\n",
       "<table border=\"1\" class=\"dataframe\">\n",
       "  <thead>\n",
       "    <tr style=\"text-align: right;\">\n",
       "      <th></th>\n",
       "      <th>email</th>\n",
       "      <th>full name</th>\n",
       "    </tr>\n",
       "  </thead>\n",
       "  <tbody>\n",
       "    <tr>\n",
       "      <th>0</th>\n",
       "      <td>aslan.tol@gamil.com</td>\n",
       "      <td>Aslan Tolegazinov</td>\n",
       "    </tr>\n",
       "    <tr>\n",
       "      <th>1</th>\n",
       "      <td>zhuldyz99@gmail.com</td>\n",
       "      <td>Zhuldyz Gabitova</td>\n",
       "    </tr>\n",
       "    <tr>\n",
       "      <th>2</th>\n",
       "      <td>azamat.g@mail.ru</td>\n",
       "      <td>Azamat Bolatov</td>\n",
       "    </tr>\n",
       "    <tr>\n",
       "      <th>3</th>\n",
       "      <td>kami.hamitova@yandex.ru</td>\n",
       "      <td>Kamila Hamitova</td>\n",
       "    </tr>\n",
       "  </tbody>\n",
       "</table>\n",
       "</div>"
      ],
      "text/plain": [
       "                     email          full name\n",
       "0      aslan.tol@gamil.com  Aslan Tolegazinov\n",
       "1      zhuldyz99@gmail.com   Zhuldyz Gabitova\n",
       "2         azamat.g@mail.ru     Azamat Bolatov\n",
       "3  kami.hamitova@yandex.ru    Kamila Hamitova"
      ]
     },
     "execution_count": 9,
     "metadata": {},
     "output_type": "execute_result"
    }
   ],
   "source": [
    "df.drop(columns = ['name', 'surname'])"
   ]
  },
  {
   "cell_type": "code",
   "execution_count": 10,
   "metadata": {},
   "outputs": [
    {
     "data": {
      "text/html": [
       "<div>\n",
       "<style scoped>\n",
       "    .dataframe tbody tr th:only-of-type {\n",
       "        vertical-align: middle;\n",
       "    }\n",
       "\n",
       "    .dataframe tbody tr th {\n",
       "        vertical-align: top;\n",
       "    }\n",
       "\n",
       "    .dataframe thead th {\n",
       "        text-align: right;\n",
       "    }\n",
       "</style>\n",
       "<table border=\"1\" class=\"dataframe\">\n",
       "  <thead>\n",
       "    <tr style=\"text-align: right;\">\n",
       "      <th></th>\n",
       "      <th>name</th>\n",
       "      <th>surname</th>\n",
       "      <th>email</th>\n",
       "      <th>full name</th>\n",
       "    </tr>\n",
       "  </thead>\n",
       "  <tbody>\n",
       "    <tr>\n",
       "      <th>0</th>\n",
       "      <td>Aslan</td>\n",
       "      <td>Tolegazinov</td>\n",
       "      <td>aslan.tol@gamil.com</td>\n",
       "      <td>Aslan Tolegazinov</td>\n",
       "    </tr>\n",
       "    <tr>\n",
       "      <th>1</th>\n",
       "      <td>Zhuldyz</td>\n",
       "      <td>Gabitova</td>\n",
       "      <td>zhuldyz99@gmail.com</td>\n",
       "      <td>Zhuldyz Gabitova</td>\n",
       "    </tr>\n",
       "    <tr>\n",
       "      <th>2</th>\n",
       "      <td>Azamat</td>\n",
       "      <td>Bolatov</td>\n",
       "      <td>azamat.g@mail.ru</td>\n",
       "      <td>Azamat Bolatov</td>\n",
       "    </tr>\n",
       "    <tr>\n",
       "      <th>3</th>\n",
       "      <td>Kamila</td>\n",
       "      <td>Hamitova</td>\n",
       "      <td>kami.hamitova@yandex.ru</td>\n",
       "      <td>Kamila Hamitova</td>\n",
       "    </tr>\n",
       "  </tbody>\n",
       "</table>\n",
       "</div>"
      ],
      "text/plain": [
       "      name      surname                    email          full name\n",
       "0    Aslan  Tolegazinov      aslan.tol@gamil.com  Aslan Tolegazinov\n",
       "1  Zhuldyz     Gabitova      zhuldyz99@gmail.com   Zhuldyz Gabitova\n",
       "2   Azamat      Bolatov         azamat.g@mail.ru     Azamat Bolatov\n",
       "3   Kamila     Hamitova  kami.hamitova@yandex.ru    Kamila Hamitova"
      ]
     },
     "execution_count": 10,
     "metadata": {},
     "output_type": "execute_result"
    }
   ],
   "source": [
    "df"
   ]
  },
  {
   "cell_type": "code",
   "execution_count": 12,
   "metadata": {},
   "outputs": [],
   "source": [
    "df.drop(columns=['name', 'surname'], inplace = True)"
   ]
  },
  {
   "cell_type": "code",
   "execution_count": 13,
   "metadata": {},
   "outputs": [
    {
     "data": {
      "text/html": [
       "<div>\n",
       "<style scoped>\n",
       "    .dataframe tbody tr th:only-of-type {\n",
       "        vertical-align: middle;\n",
       "    }\n",
       "\n",
       "    .dataframe tbody tr th {\n",
       "        vertical-align: top;\n",
       "    }\n",
       "\n",
       "    .dataframe thead th {\n",
       "        text-align: right;\n",
       "    }\n",
       "</style>\n",
       "<table border=\"1\" class=\"dataframe\">\n",
       "  <thead>\n",
       "    <tr style=\"text-align: right;\">\n",
       "      <th></th>\n",
       "      <th>email</th>\n",
       "      <th>full name</th>\n",
       "    </tr>\n",
       "  </thead>\n",
       "  <tbody>\n",
       "    <tr>\n",
       "      <th>0</th>\n",
       "      <td>aslan.tol@gamil.com</td>\n",
       "      <td>Aslan Tolegazinov</td>\n",
       "    </tr>\n",
       "    <tr>\n",
       "      <th>1</th>\n",
       "      <td>zhuldyz99@gmail.com</td>\n",
       "      <td>Zhuldyz Gabitova</td>\n",
       "    </tr>\n",
       "    <tr>\n",
       "      <th>2</th>\n",
       "      <td>azamat.g@mail.ru</td>\n",
       "      <td>Azamat Bolatov</td>\n",
       "    </tr>\n",
       "    <tr>\n",
       "      <th>3</th>\n",
       "      <td>kami.hamitova@yandex.ru</td>\n",
       "      <td>Kamila Hamitova</td>\n",
       "    </tr>\n",
       "  </tbody>\n",
       "</table>\n",
       "</div>"
      ],
      "text/plain": [
       "                     email          full name\n",
       "0      aslan.tol@gamil.com  Aslan Tolegazinov\n",
       "1      zhuldyz99@gmail.com   Zhuldyz Gabitova\n",
       "2         azamat.g@mail.ru     Azamat Bolatov\n",
       "3  kami.hamitova@yandex.ru    Kamila Hamitova"
      ]
     },
     "execution_count": 13,
     "metadata": {},
     "output_type": "execute_result"
    }
   ],
   "source": [
    "df"
   ]
  },
  {
   "cell_type": "code",
   "execution_count": 15,
   "metadata": {},
   "outputs": [
    {
     "data": {
      "text/plain": [
       "0    [Aslan, Tolegazinov]\n",
       "1     [Zhuldyz, Gabitova]\n",
       "2       [Azamat, Bolatov]\n",
       "3      [Kamila, Hamitova]\n",
       "Name: full name, dtype: object"
      ]
     },
     "execution_count": 15,
     "metadata": {},
     "output_type": "execute_result"
    }
   ],
   "source": [
    "df['full name'].str.split(' ')"
   ]
  },
  {
   "cell_type": "code",
   "execution_count": 16,
   "metadata": {},
   "outputs": [
    {
     "data": {
      "text/html": [
       "<div>\n",
       "<style scoped>\n",
       "    .dataframe tbody tr th:only-of-type {\n",
       "        vertical-align: middle;\n",
       "    }\n",
       "\n",
       "    .dataframe tbody tr th {\n",
       "        vertical-align: top;\n",
       "    }\n",
       "\n",
       "    .dataframe thead th {\n",
       "        text-align: right;\n",
       "    }\n",
       "</style>\n",
       "<table border=\"1\" class=\"dataframe\">\n",
       "  <thead>\n",
       "    <tr style=\"text-align: right;\">\n",
       "      <th></th>\n",
       "      <th>0</th>\n",
       "      <th>1</th>\n",
       "    </tr>\n",
       "  </thead>\n",
       "  <tbody>\n",
       "    <tr>\n",
       "      <th>0</th>\n",
       "      <td>Aslan</td>\n",
       "      <td>Tolegazinov</td>\n",
       "    </tr>\n",
       "    <tr>\n",
       "      <th>1</th>\n",
       "      <td>Zhuldyz</td>\n",
       "      <td>Gabitova</td>\n",
       "    </tr>\n",
       "    <tr>\n",
       "      <th>2</th>\n",
       "      <td>Azamat</td>\n",
       "      <td>Bolatov</td>\n",
       "    </tr>\n",
       "    <tr>\n",
       "      <th>3</th>\n",
       "      <td>Kamila</td>\n",
       "      <td>Hamitova</td>\n",
       "    </tr>\n",
       "  </tbody>\n",
       "</table>\n",
       "</div>"
      ],
      "text/plain": [
       "         0            1\n",
       "0    Aslan  Tolegazinov\n",
       "1  Zhuldyz     Gabitova\n",
       "2   Azamat      Bolatov\n",
       "3   Kamila     Hamitova"
      ]
     },
     "execution_count": 16,
     "metadata": {},
     "output_type": "execute_result"
    }
   ],
   "source": [
    "df['full name'].str.split(' ', expand=True)"
   ]
  },
  {
   "cell_type": "code",
   "execution_count": 17,
   "metadata": {},
   "outputs": [],
   "source": [
    "df[['name', 'surname']] = df['full name'].str.split(' ', expand = True)"
   ]
  },
  {
   "cell_type": "code",
   "execution_count": 18,
   "metadata": {},
   "outputs": [
    {
     "data": {
      "text/html": [
       "<div>\n",
       "<style scoped>\n",
       "    .dataframe tbody tr th:only-of-type {\n",
       "        vertical-align: middle;\n",
       "    }\n",
       "\n",
       "    .dataframe tbody tr th {\n",
       "        vertical-align: top;\n",
       "    }\n",
       "\n",
       "    .dataframe thead th {\n",
       "        text-align: right;\n",
       "    }\n",
       "</style>\n",
       "<table border=\"1\" class=\"dataframe\">\n",
       "  <thead>\n",
       "    <tr style=\"text-align: right;\">\n",
       "      <th></th>\n",
       "      <th>email</th>\n",
       "      <th>full name</th>\n",
       "      <th>name</th>\n",
       "      <th>surname</th>\n",
       "    </tr>\n",
       "  </thead>\n",
       "  <tbody>\n",
       "    <tr>\n",
       "      <th>0</th>\n",
       "      <td>aslan.tol@gamil.com</td>\n",
       "      <td>Aslan Tolegazinov</td>\n",
       "      <td>Aslan</td>\n",
       "      <td>Tolegazinov</td>\n",
       "    </tr>\n",
       "    <tr>\n",
       "      <th>1</th>\n",
       "      <td>zhuldyz99@gmail.com</td>\n",
       "      <td>Zhuldyz Gabitova</td>\n",
       "      <td>Zhuldyz</td>\n",
       "      <td>Gabitova</td>\n",
       "    </tr>\n",
       "    <tr>\n",
       "      <th>2</th>\n",
       "      <td>azamat.g@mail.ru</td>\n",
       "      <td>Azamat Bolatov</td>\n",
       "      <td>Azamat</td>\n",
       "      <td>Bolatov</td>\n",
       "    </tr>\n",
       "    <tr>\n",
       "      <th>3</th>\n",
       "      <td>kami.hamitova@yandex.ru</td>\n",
       "      <td>Kamila Hamitova</td>\n",
       "      <td>Kamila</td>\n",
       "      <td>Hamitova</td>\n",
       "    </tr>\n",
       "  </tbody>\n",
       "</table>\n",
       "</div>"
      ],
      "text/plain": [
       "                     email          full name     name      surname\n",
       "0      aslan.tol@gamil.com  Aslan Tolegazinov    Aslan  Tolegazinov\n",
       "1      zhuldyz99@gmail.com   Zhuldyz Gabitova  Zhuldyz     Gabitova\n",
       "2         azamat.g@mail.ru     Azamat Bolatov   Azamat      Bolatov\n",
       "3  kami.hamitova@yandex.ru    Kamila Hamitova   Kamila     Hamitova"
      ]
     },
     "execution_count": 18,
     "metadata": {},
     "output_type": "execute_result"
    }
   ],
   "source": [
    "df"
   ]
  },
  {
   "cell_type": "code",
   "execution_count": 22,
   "metadata": {},
   "outputs": [
    {
     "data": {
      "text/html": [
       "<div>\n",
       "<style scoped>\n",
       "    .dataframe tbody tr th:only-of-type {\n",
       "        vertical-align: middle;\n",
       "    }\n",
       "\n",
       "    .dataframe tbody tr th {\n",
       "        vertical-align: top;\n",
       "    }\n",
       "\n",
       "    .dataframe thead th {\n",
       "        text-align: right;\n",
       "    }\n",
       "</style>\n",
       "<table border=\"1\" class=\"dataframe\">\n",
       "  <thead>\n",
       "    <tr style=\"text-align: right;\">\n",
       "      <th></th>\n",
       "      <th>email</th>\n",
       "      <th>full name</th>\n",
       "      <th>name</th>\n",
       "      <th>surname</th>\n",
       "      <th>first</th>\n",
       "    </tr>\n",
       "  </thead>\n",
       "  <tbody>\n",
       "    <tr>\n",
       "      <th>0</th>\n",
       "      <td>aslan.tol@gamil.com</td>\n",
       "      <td>Aslan Tolegazinov</td>\n",
       "      <td>Aslan</td>\n",
       "      <td>Tolegazinov</td>\n",
       "      <td>NaN</td>\n",
       "    </tr>\n",
       "    <tr>\n",
       "      <th>1</th>\n",
       "      <td>zhuldyz99@gmail.com</td>\n",
       "      <td>Zhuldyz Gabitova</td>\n",
       "      <td>Zhuldyz</td>\n",
       "      <td>Gabitova</td>\n",
       "      <td>NaN</td>\n",
       "    </tr>\n",
       "    <tr>\n",
       "      <th>2</th>\n",
       "      <td>azamat.g@mail.ru</td>\n",
       "      <td>Azamat Bolatov</td>\n",
       "      <td>Azamat</td>\n",
       "      <td>Bolatov</td>\n",
       "      <td>NaN</td>\n",
       "    </tr>\n",
       "    <tr>\n",
       "      <th>3</th>\n",
       "      <td>kami.hamitova@yandex.ru</td>\n",
       "      <td>Kamila Hamitova</td>\n",
       "      <td>Kamila</td>\n",
       "      <td>Hamitova</td>\n",
       "      <td>NaN</td>\n",
       "    </tr>\n",
       "    <tr>\n",
       "      <th>4</th>\n",
       "      <td>NaN</td>\n",
       "      <td>NaN</td>\n",
       "      <td>NaN</td>\n",
       "      <td>NaN</td>\n",
       "      <td>Nariman</td>\n",
       "    </tr>\n",
       "  </tbody>\n",
       "</table>\n",
       "</div>"
      ],
      "text/plain": [
       "                     email          full name     name      surname    first\n",
       "0      aslan.tol@gamil.com  Aslan Tolegazinov    Aslan  Tolegazinov      NaN\n",
       "1      zhuldyz99@gmail.com   Zhuldyz Gabitova  Zhuldyz     Gabitova      NaN\n",
       "2         azamat.g@mail.ru     Azamat Bolatov   Azamat      Bolatov      NaN\n",
       "3  kami.hamitova@yandex.ru    Kamila Hamitova   Kamila     Hamitova      NaN\n",
       "4                      NaN                NaN      NaN          NaN  Nariman"
      ]
     },
     "execution_count": 22,
     "metadata": {},
     "output_type": "execute_result"
    }
   ],
   "source": [
    "df.append({'first':'Nariman'}, ignore_index=True)"
   ]
  },
  {
   "cell_type": "code",
   "execution_count": 23,
   "metadata": {},
   "outputs": [],
   "source": [
    "people = {\n",
    "    'name' : ['Tony', 'Steve'],\n",
    "    'surname' : ['Stark', 'Jobs'],\n",
    "    'email' : ['tony.stark@gamil.com', 'steve.j@gmail.com']\n",
    "}"
   ]
  },
  {
   "cell_type": "code",
   "execution_count": 24,
   "metadata": {},
   "outputs": [
    {
     "data": {
      "text/html": [
       "<div>\n",
       "<style scoped>\n",
       "    .dataframe tbody tr th:only-of-type {\n",
       "        vertical-align: middle;\n",
       "    }\n",
       "\n",
       "    .dataframe tbody tr th {\n",
       "        vertical-align: top;\n",
       "    }\n",
       "\n",
       "    .dataframe thead th {\n",
       "        text-align: right;\n",
       "    }\n",
       "</style>\n",
       "<table border=\"1\" class=\"dataframe\">\n",
       "  <thead>\n",
       "    <tr style=\"text-align: right;\">\n",
       "      <th></th>\n",
       "      <th>name</th>\n",
       "      <th>surname</th>\n",
       "      <th>email</th>\n",
       "    </tr>\n",
       "  </thead>\n",
       "  <tbody>\n",
       "    <tr>\n",
       "      <th>0</th>\n",
       "      <td>Tony</td>\n",
       "      <td>Stark</td>\n",
       "      <td>tony.stark@gamil.com</td>\n",
       "    </tr>\n",
       "    <tr>\n",
       "      <th>1</th>\n",
       "      <td>Steve</td>\n",
       "      <td>Jobs</td>\n",
       "      <td>steve.j@gmail.com</td>\n",
       "    </tr>\n",
       "  </tbody>\n",
       "</table>\n",
       "</div>"
      ],
      "text/plain": [
       "    name surname                 email\n",
       "0   Tony   Stark  tony.stark@gamil.com\n",
       "1  Steve    Jobs     steve.j@gmail.com"
      ]
     },
     "execution_count": 24,
     "metadata": {},
     "output_type": "execute_result"
    }
   ],
   "source": [
    "df2 = pd.DataFrame(people)\n",
    "df2"
   ]
  },
  {
   "cell_type": "code",
   "execution_count": 30,
   "metadata": {},
   "outputs": [
    {
     "data": {
      "text/html": [
       "<div>\n",
       "<style scoped>\n",
       "    .dataframe tbody tr th:only-of-type {\n",
       "        vertical-align: middle;\n",
       "    }\n",
       "\n",
       "    .dataframe tbody tr th {\n",
       "        vertical-align: top;\n",
       "    }\n",
       "\n",
       "    .dataframe thead th {\n",
       "        text-align: right;\n",
       "    }\n",
       "</style>\n",
       "<table border=\"1\" class=\"dataframe\">\n",
       "  <thead>\n",
       "    <tr style=\"text-align: right;\">\n",
       "      <th></th>\n",
       "      <th>email</th>\n",
       "      <th>full name</th>\n",
       "      <th>name</th>\n",
       "      <th>surname</th>\n",
       "    </tr>\n",
       "  </thead>\n",
       "  <tbody>\n",
       "    <tr>\n",
       "      <th>0</th>\n",
       "      <td>aslan.tol@gamil.com</td>\n",
       "      <td>Aslan Tolegazinov</td>\n",
       "      <td>Aslan</td>\n",
       "      <td>Tolegazinov</td>\n",
       "    </tr>\n",
       "    <tr>\n",
       "      <th>1</th>\n",
       "      <td>zhuldyz99@gmail.com</td>\n",
       "      <td>Zhuldyz Gabitova</td>\n",
       "      <td>Zhuldyz</td>\n",
       "      <td>Gabitova</td>\n",
       "    </tr>\n",
       "    <tr>\n",
       "      <th>2</th>\n",
       "      <td>azamat.g@mail.ru</td>\n",
       "      <td>Azamat Bolatov</td>\n",
       "      <td>Azamat</td>\n",
       "      <td>Bolatov</td>\n",
       "    </tr>\n",
       "    <tr>\n",
       "      <th>3</th>\n",
       "      <td>kami.hamitova@yandex.ru</td>\n",
       "      <td>Kamila Hamitova</td>\n",
       "      <td>Kamila</td>\n",
       "      <td>Hamitova</td>\n",
       "    </tr>\n",
       "    <tr>\n",
       "      <th>4</th>\n",
       "      <td>tony.stark@gamil.com</td>\n",
       "      <td>NaN</td>\n",
       "      <td>Tony</td>\n",
       "      <td>Stark</td>\n",
       "    </tr>\n",
       "    <tr>\n",
       "      <th>5</th>\n",
       "      <td>steve.j@gmail.com</td>\n",
       "      <td>NaN</td>\n",
       "      <td>Steve</td>\n",
       "      <td>Jobs</td>\n",
       "    </tr>\n",
       "  </tbody>\n",
       "</table>\n",
       "</div>"
      ],
      "text/plain": [
       "                     email          full name     name      surname\n",
       "0      aslan.tol@gamil.com  Aslan Tolegazinov    Aslan  Tolegazinov\n",
       "1      zhuldyz99@gmail.com   Zhuldyz Gabitova  Zhuldyz     Gabitova\n",
       "2         azamat.g@mail.ru     Azamat Bolatov   Azamat      Bolatov\n",
       "3  kami.hamitova@yandex.ru    Kamila Hamitova   Kamila     Hamitova\n",
       "4     tony.stark@gamil.com                NaN     Tony        Stark\n",
       "5        steve.j@gmail.com                NaN    Steve         Jobs"
      ]
     },
     "execution_count": 30,
     "metadata": {},
     "output_type": "execute_result"
    }
   ],
   "source": [
    "df.append(df2, ignore_index = True)"
   ]
  },
  {
   "cell_type": "code",
   "execution_count": 31,
   "metadata": {},
   "outputs": [],
   "source": [
    "df = df.append(df2, ignore_index = True)"
   ]
  },
  {
   "cell_type": "code",
   "execution_count": 32,
   "metadata": {},
   "outputs": [
    {
     "data": {
      "text/html": [
       "<div>\n",
       "<style scoped>\n",
       "    .dataframe tbody tr th:only-of-type {\n",
       "        vertical-align: middle;\n",
       "    }\n",
       "\n",
       "    .dataframe tbody tr th {\n",
       "        vertical-align: top;\n",
       "    }\n",
       "\n",
       "    .dataframe thead th {\n",
       "        text-align: right;\n",
       "    }\n",
       "</style>\n",
       "<table border=\"1\" class=\"dataframe\">\n",
       "  <thead>\n",
       "    <tr style=\"text-align: right;\">\n",
       "      <th></th>\n",
       "      <th>email</th>\n",
       "      <th>full name</th>\n",
       "      <th>name</th>\n",
       "      <th>surname</th>\n",
       "    </tr>\n",
       "  </thead>\n",
       "  <tbody>\n",
       "    <tr>\n",
       "      <th>0</th>\n",
       "      <td>aslan.tol@gamil.com</td>\n",
       "      <td>Aslan Tolegazinov</td>\n",
       "      <td>Aslan</td>\n",
       "      <td>Tolegazinov</td>\n",
       "    </tr>\n",
       "    <tr>\n",
       "      <th>1</th>\n",
       "      <td>zhuldyz99@gmail.com</td>\n",
       "      <td>Zhuldyz Gabitova</td>\n",
       "      <td>Zhuldyz</td>\n",
       "      <td>Gabitova</td>\n",
       "    </tr>\n",
       "    <tr>\n",
       "      <th>2</th>\n",
       "      <td>azamat.g@mail.ru</td>\n",
       "      <td>Azamat Bolatov</td>\n",
       "      <td>Azamat</td>\n",
       "      <td>Bolatov</td>\n",
       "    </tr>\n",
       "    <tr>\n",
       "      <th>3</th>\n",
       "      <td>kami.hamitova@yandex.ru</td>\n",
       "      <td>Kamila Hamitova</td>\n",
       "      <td>Kamila</td>\n",
       "      <td>Hamitova</td>\n",
       "    </tr>\n",
       "    <tr>\n",
       "      <th>4</th>\n",
       "      <td>tony.stark@gamil.com</td>\n",
       "      <td>NaN</td>\n",
       "      <td>Tony</td>\n",
       "      <td>Stark</td>\n",
       "    </tr>\n",
       "    <tr>\n",
       "      <th>5</th>\n",
       "      <td>steve.j@gmail.com</td>\n",
       "      <td>NaN</td>\n",
       "      <td>Steve</td>\n",
       "      <td>Jobs</td>\n",
       "    </tr>\n",
       "  </tbody>\n",
       "</table>\n",
       "</div>"
      ],
      "text/plain": [
       "                     email          full name     name      surname\n",
       "0      aslan.tol@gamil.com  Aslan Tolegazinov    Aslan  Tolegazinov\n",
       "1      zhuldyz99@gmail.com   Zhuldyz Gabitova  Zhuldyz     Gabitova\n",
       "2         azamat.g@mail.ru     Azamat Bolatov   Azamat      Bolatov\n",
       "3  kami.hamitova@yandex.ru    Kamila Hamitova   Kamila     Hamitova\n",
       "4     tony.stark@gamil.com                NaN     Tony        Stark\n",
       "5        steve.j@gmail.com                NaN    Steve         Jobs"
      ]
     },
     "execution_count": 32,
     "metadata": {},
     "output_type": "execute_result"
    }
   ],
   "source": [
    "df"
   ]
  },
  {
   "cell_type": "code",
   "execution_count": 35,
   "metadata": {},
   "outputs": [],
   "source": [
    "df.drop(index = 4, inplace = True)"
   ]
  },
  {
   "cell_type": "code",
   "execution_count": 36,
   "metadata": {},
   "outputs": [
    {
     "data": {
      "text/html": [
       "<div>\n",
       "<style scoped>\n",
       "    .dataframe tbody tr th:only-of-type {\n",
       "        vertical-align: middle;\n",
       "    }\n",
       "\n",
       "    .dataframe tbody tr th {\n",
       "        vertical-align: top;\n",
       "    }\n",
       "\n",
       "    .dataframe thead th {\n",
       "        text-align: right;\n",
       "    }\n",
       "</style>\n",
       "<table border=\"1\" class=\"dataframe\">\n",
       "  <thead>\n",
       "    <tr style=\"text-align: right;\">\n",
       "      <th></th>\n",
       "      <th>email</th>\n",
       "      <th>full name</th>\n",
       "      <th>name</th>\n",
       "      <th>surname</th>\n",
       "    </tr>\n",
       "  </thead>\n",
       "  <tbody>\n",
       "    <tr>\n",
       "      <th>0</th>\n",
       "      <td>aslan.tol@gamil.com</td>\n",
       "      <td>Aslan Tolegazinov</td>\n",
       "      <td>Aslan</td>\n",
       "      <td>Tolegazinov</td>\n",
       "    </tr>\n",
       "    <tr>\n",
       "      <th>1</th>\n",
       "      <td>zhuldyz99@gmail.com</td>\n",
       "      <td>Zhuldyz Gabitova</td>\n",
       "      <td>Zhuldyz</td>\n",
       "      <td>Gabitova</td>\n",
       "    </tr>\n",
       "    <tr>\n",
       "      <th>2</th>\n",
       "      <td>azamat.g@mail.ru</td>\n",
       "      <td>Azamat Bolatov</td>\n",
       "      <td>Azamat</td>\n",
       "      <td>Bolatov</td>\n",
       "    </tr>\n",
       "    <tr>\n",
       "      <th>3</th>\n",
       "      <td>kami.hamitova@yandex.ru</td>\n",
       "      <td>Kamila Hamitova</td>\n",
       "      <td>Kamila</td>\n",
       "      <td>Hamitova</td>\n",
       "    </tr>\n",
       "    <tr>\n",
       "      <th>5</th>\n",
       "      <td>steve.j@gmail.com</td>\n",
       "      <td>NaN</td>\n",
       "      <td>Steve</td>\n",
       "      <td>Jobs</td>\n",
       "    </tr>\n",
       "  </tbody>\n",
       "</table>\n",
       "</div>"
      ],
      "text/plain": [
       "                     email          full name     name      surname\n",
       "0      aslan.tol@gamil.com  Aslan Tolegazinov    Aslan  Tolegazinov\n",
       "1      zhuldyz99@gmail.com   Zhuldyz Gabitova  Zhuldyz     Gabitova\n",
       "2         azamat.g@mail.ru     Azamat Bolatov   Azamat      Bolatov\n",
       "3  kami.hamitova@yandex.ru    Kamila Hamitova   Kamila     Hamitova\n",
       "5        steve.j@gmail.com                NaN    Steve         Jobs"
      ]
     },
     "execution_count": 36,
     "metadata": {},
     "output_type": "execute_result"
    }
   ],
   "source": [
    "df"
   ]
  },
  {
   "cell_type": "code",
   "execution_count": 40,
   "metadata": {},
   "outputs": [],
   "source": [
    "df.drop(df[df['email'] == 'aslan.tol@gamil.com'].index, inplace = True)"
   ]
  },
  {
   "cell_type": "code",
   "execution_count": 41,
   "metadata": {},
   "outputs": [
    {
     "data": {
      "text/html": [
       "<div>\n",
       "<style scoped>\n",
       "    .dataframe tbody tr th:only-of-type {\n",
       "        vertical-align: middle;\n",
       "    }\n",
       "\n",
       "    .dataframe tbody tr th {\n",
       "        vertical-align: top;\n",
       "    }\n",
       "\n",
       "    .dataframe thead th {\n",
       "        text-align: right;\n",
       "    }\n",
       "</style>\n",
       "<table border=\"1\" class=\"dataframe\">\n",
       "  <thead>\n",
       "    <tr style=\"text-align: right;\">\n",
       "      <th></th>\n",
       "      <th>email</th>\n",
       "      <th>full name</th>\n",
       "      <th>name</th>\n",
       "      <th>surname</th>\n",
       "    </tr>\n",
       "  </thead>\n",
       "  <tbody>\n",
       "    <tr>\n",
       "      <th>1</th>\n",
       "      <td>zhuldyz99@gmail.com</td>\n",
       "      <td>Zhuldyz Gabitova</td>\n",
       "      <td>Zhuldyz</td>\n",
       "      <td>Gabitova</td>\n",
       "    </tr>\n",
       "    <tr>\n",
       "      <th>2</th>\n",
       "      <td>azamat.g@mail.ru</td>\n",
       "      <td>Azamat Bolatov</td>\n",
       "      <td>Azamat</td>\n",
       "      <td>Bolatov</td>\n",
       "    </tr>\n",
       "    <tr>\n",
       "      <th>3</th>\n",
       "      <td>kami.hamitova@yandex.ru</td>\n",
       "      <td>Kamila Hamitova</td>\n",
       "      <td>Kamila</td>\n",
       "      <td>Hamitova</td>\n",
       "    </tr>\n",
       "    <tr>\n",
       "      <th>5</th>\n",
       "      <td>steve.j@gmail.com</td>\n",
       "      <td>NaN</td>\n",
       "      <td>Steve</td>\n",
       "      <td>Jobs</td>\n",
       "    </tr>\n",
       "  </tbody>\n",
       "</table>\n",
       "</div>"
      ],
      "text/plain": [
       "                     email         full name     name   surname\n",
       "1      zhuldyz99@gmail.com  Zhuldyz Gabitova  Zhuldyz  Gabitova\n",
       "2         azamat.g@mail.ru    Azamat Bolatov   Azamat   Bolatov\n",
       "3  kami.hamitova@yandex.ru   Kamila Hamitova   Kamila  Hamitova\n",
       "5        steve.j@gmail.com               NaN    Steve      Jobs"
      ]
     },
     "execution_count": 41,
     "metadata": {},
     "output_type": "execute_result"
    }
   ],
   "source": [
    "df"
   ]
  },
  {
   "cell_type": "code",
   "execution_count": null,
   "metadata": {},
   "outputs": [],
   "source": []
  }
 ],
 "metadata": {
  "kernelspec": {
   "display_name": "Python",
   "language": "python",
   "name": "conda-env-python-py"
  },
  "language_info": {
   "codemirror_mode": {
    "name": "ipython",
    "version": 3
   },
   "file_extension": ".py",
   "mimetype": "text/x-python",
   "name": "python",
   "nbconvert_exporter": "python",
   "pygments_lexer": "ipython3",
   "version": "3.6.10"
  }
 },
 "nbformat": 4,
 "nbformat_minor": 4
}
