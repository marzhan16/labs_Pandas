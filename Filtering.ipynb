{
 "cells": [
  {
   "cell_type": "code",
   "execution_count": 1,
   "metadata": {},
   "outputs": [],
   "source": [
    "import pandas as pd"
   ]
  },
  {
   "cell_type": "code",
   "execution_count": 2,
   "metadata": {},
   "outputs": [],
   "source": [
    "people = {\n",
    "    'name' : ['Azamat', 'Zhuldyz', 'Azamat', 'Kamila'],\n",
    "    'surname' : ['Tolegazinov', 'Gabitova', 'Bolatov', 'Hamitova'],\n",
    "    'email' : ['aza.tol@gamil.com', 'zhuldyz99@gmail.com', 'azamat.g@mail.ru', 'kami.hamitova@yandex.ru']\n",
    "}"
   ]
  },
  {
   "cell_type": "code",
   "execution_count": 3,
   "metadata": {},
   "outputs": [],
   "source": [
    "data = pd.DataFrame(people)"
   ]
  },
  {
   "cell_type": "code",
   "execution_count": 4,
   "metadata": {},
   "outputs": [
    {
     "data": {
      "text/html": [
       "<div>\n",
       "<style scoped>\n",
       "    .dataframe tbody tr th:only-of-type {\n",
       "        vertical-align: middle;\n",
       "    }\n",
       "\n",
       "    .dataframe tbody tr th {\n",
       "        vertical-align: top;\n",
       "    }\n",
       "\n",
       "    .dataframe thead th {\n",
       "        text-align: right;\n",
       "    }\n",
       "</style>\n",
       "<table border=\"1\" class=\"dataframe\">\n",
       "  <thead>\n",
       "    <tr style=\"text-align: right;\">\n",
       "      <th></th>\n",
       "      <th>name</th>\n",
       "      <th>surname</th>\n",
       "      <th>email</th>\n",
       "    </tr>\n",
       "  </thead>\n",
       "  <tbody>\n",
       "    <tr>\n",
       "      <th>0</th>\n",
       "      <td>Azamat</td>\n",
       "      <td>Tolegazinov</td>\n",
       "      <td>aza.tol@gamil.com</td>\n",
       "    </tr>\n",
       "    <tr>\n",
       "      <th>1</th>\n",
       "      <td>Zhuldyz</td>\n",
       "      <td>Gabitova</td>\n",
       "      <td>zhuldyz99@gmail.com</td>\n",
       "    </tr>\n",
       "    <tr>\n",
       "      <th>2</th>\n",
       "      <td>Azamat</td>\n",
       "      <td>Bolatov</td>\n",
       "      <td>azamat.g@mail.ru</td>\n",
       "    </tr>\n",
       "    <tr>\n",
       "      <th>3</th>\n",
       "      <td>Kamila</td>\n",
       "      <td>Hamitova</td>\n",
       "      <td>kami.hamitova@yandex.ru</td>\n",
       "    </tr>\n",
       "  </tbody>\n",
       "</table>\n",
       "</div>"
      ],
      "text/plain": [
       "      name      surname                    email\n",
       "0   Azamat  Tolegazinov        aza.tol@gamil.com\n",
       "1  Zhuldyz     Gabitova      zhuldyz99@gmail.com\n",
       "2   Azamat      Bolatov         azamat.g@mail.ru\n",
       "3   Kamila     Hamitova  kami.hamitova@yandex.ru"
      ]
     },
     "execution_count": 4,
     "metadata": {},
     "output_type": "execute_result"
    }
   ],
   "source": [
    "data"
   ]
  },
  {
   "cell_type": "code",
   "execution_count": 5,
   "metadata": {},
   "outputs": [],
   "source": [
    "filt = data['name'] == 'Azamat'"
   ]
  },
  {
   "cell_type": "code",
   "execution_count": 6,
   "metadata": {},
   "outputs": [
    {
     "data": {
      "text/html": [
       "<div>\n",
       "<style scoped>\n",
       "    .dataframe tbody tr th:only-of-type {\n",
       "        vertical-align: middle;\n",
       "    }\n",
       "\n",
       "    .dataframe tbody tr th {\n",
       "        vertical-align: top;\n",
       "    }\n",
       "\n",
       "    .dataframe thead th {\n",
       "        text-align: right;\n",
       "    }\n",
       "</style>\n",
       "<table border=\"1\" class=\"dataframe\">\n",
       "  <thead>\n",
       "    <tr style=\"text-align: right;\">\n",
       "      <th></th>\n",
       "      <th>name</th>\n",
       "      <th>surname</th>\n",
       "      <th>email</th>\n",
       "    </tr>\n",
       "  </thead>\n",
       "  <tbody>\n",
       "    <tr>\n",
       "      <th>0</th>\n",
       "      <td>Azamat</td>\n",
       "      <td>Tolegazinov</td>\n",
       "      <td>aza.tol@gamil.com</td>\n",
       "    </tr>\n",
       "    <tr>\n",
       "      <th>2</th>\n",
       "      <td>Azamat</td>\n",
       "      <td>Bolatov</td>\n",
       "      <td>azamat.g@mail.ru</td>\n",
       "    </tr>\n",
       "  </tbody>\n",
       "</table>\n",
       "</div>"
      ],
      "text/plain": [
       "     name      surname              email\n",
       "0  Azamat  Tolegazinov  aza.tol@gamil.com\n",
       "2  Azamat      Bolatov   azamat.g@mail.ru"
      ]
     },
     "execution_count": 6,
     "metadata": {},
     "output_type": "execute_result"
    }
   ],
   "source": [
    "data[filt]"
   ]
  },
  {
   "cell_type": "code",
   "execution_count": 7,
   "metadata": {},
   "outputs": [
    {
     "data": {
      "text/plain": [
       "0    aza.tol@gamil.com\n",
       "2     azamat.g@mail.ru\n",
       "Name: email, dtype: object"
      ]
     },
     "execution_count": 7,
     "metadata": {},
     "output_type": "execute_result"
    }
   ],
   "source": [
    "data.loc[filt, 'email']"
   ]
  },
  {
   "cell_type": "code",
   "execution_count": 8,
   "metadata": {},
   "outputs": [
    {
     "data": {
      "text/html": [
       "<div>\n",
       "<style scoped>\n",
       "    .dataframe tbody tr th:only-of-type {\n",
       "        vertical-align: middle;\n",
       "    }\n",
       "\n",
       "    .dataframe tbody tr th {\n",
       "        vertical-align: top;\n",
       "    }\n",
       "\n",
       "    .dataframe thead th {\n",
       "        text-align: right;\n",
       "    }\n",
       "</style>\n",
       "<table border=\"1\" class=\"dataframe\">\n",
       "  <thead>\n",
       "    <tr style=\"text-align: right;\">\n",
       "      <th></th>\n",
       "      <th>name</th>\n",
       "      <th>surname</th>\n",
       "      <th>email</th>\n",
       "    </tr>\n",
       "  </thead>\n",
       "  <tbody>\n",
       "    <tr>\n",
       "      <th>0</th>\n",
       "      <td>Azamat</td>\n",
       "      <td>Tolegazinov</td>\n",
       "      <td>aza.tol@gamil.com</td>\n",
       "    </tr>\n",
       "    <tr>\n",
       "      <th>1</th>\n",
       "      <td>Zhuldyz</td>\n",
       "      <td>Gabitova</td>\n",
       "      <td>zhuldyz99@gmail.com</td>\n",
       "    </tr>\n",
       "    <tr>\n",
       "      <th>2</th>\n",
       "      <td>Azamat</td>\n",
       "      <td>Bolatov</td>\n",
       "      <td>azamat.g@mail.ru</td>\n",
       "    </tr>\n",
       "    <tr>\n",
       "      <th>3</th>\n",
       "      <td>Kamila</td>\n",
       "      <td>Hamitova</td>\n",
       "      <td>kami.hamitova@yandex.ru</td>\n",
       "    </tr>\n",
       "  </tbody>\n",
       "</table>\n",
       "</div>"
      ],
      "text/plain": [
       "      name      surname                    email\n",
       "0   Azamat  Tolegazinov        aza.tol@gamil.com\n",
       "1  Zhuldyz     Gabitova      zhuldyz99@gmail.com\n",
       "2   Azamat      Bolatov         azamat.g@mail.ru\n",
       "3   Kamila     Hamitova  kami.hamitova@yandex.ru"
      ]
     },
     "execution_count": 8,
     "metadata": {},
     "output_type": "execute_result"
    }
   ],
   "source": [
    "data"
   ]
  },
  {
   "cell_type": "code",
   "execution_count": 9,
   "metadata": {},
   "outputs": [],
   "source": [
    "filt1 = (data['name'] == 'Azamat') | (data['surname'] == 'Hamitova')"
   ]
  },
  {
   "cell_type": "code",
   "execution_count": 10,
   "metadata": {},
   "outputs": [
    {
     "data": {
      "text/html": [
       "<div>\n",
       "<style scoped>\n",
       "    .dataframe tbody tr th:only-of-type {\n",
       "        vertical-align: middle;\n",
       "    }\n",
       "\n",
       "    .dataframe tbody tr th {\n",
       "        vertical-align: top;\n",
       "    }\n",
       "\n",
       "    .dataframe thead th {\n",
       "        text-align: right;\n",
       "    }\n",
       "</style>\n",
       "<table border=\"1\" class=\"dataframe\">\n",
       "  <thead>\n",
       "    <tr style=\"text-align: right;\">\n",
       "      <th></th>\n",
       "      <th>name</th>\n",
       "      <th>surname</th>\n",
       "      <th>email</th>\n",
       "    </tr>\n",
       "  </thead>\n",
       "  <tbody>\n",
       "    <tr>\n",
       "      <th>0</th>\n",
       "      <td>Azamat</td>\n",
       "      <td>Tolegazinov</td>\n",
       "      <td>aza.tol@gamil.com</td>\n",
       "    </tr>\n",
       "    <tr>\n",
       "      <th>2</th>\n",
       "      <td>Azamat</td>\n",
       "      <td>Bolatov</td>\n",
       "      <td>azamat.g@mail.ru</td>\n",
       "    </tr>\n",
       "    <tr>\n",
       "      <th>3</th>\n",
       "      <td>Kamila</td>\n",
       "      <td>Hamitova</td>\n",
       "      <td>kami.hamitova@yandex.ru</td>\n",
       "    </tr>\n",
       "  </tbody>\n",
       "</table>\n",
       "</div>"
      ],
      "text/plain": [
       "     name      surname                    email\n",
       "0  Azamat  Tolegazinov        aza.tol@gamil.com\n",
       "2  Azamat      Bolatov         azamat.g@mail.ru\n",
       "3  Kamila     Hamitova  kami.hamitova@yandex.ru"
      ]
     },
     "execution_count": 10,
     "metadata": {},
     "output_type": "execute_result"
    }
   ],
   "source": [
    "data[filt1]"
   ]
  },
  {
   "cell_type": "code",
   "execution_count": 11,
   "metadata": {},
   "outputs": [],
   "source": [
    "df_public = pd.read_csv('survey_results_public.csv')\n",
    "df_schema = pd.read_csv('survey_results_schema.csv')"
   ]
  },
  {
   "cell_type": "code",
   "execution_count": 12,
   "metadata": {},
   "outputs": [],
   "source": [
    "high_salary = df_public['ConvertedComp'] > 70000 "
   ]
  },
  {
   "cell_type": "code",
   "execution_count": 14,
   "metadata": {},
   "outputs": [
    {
     "data": {
      "text/html": [
       "<div>\n",
       "<style scoped>\n",
       "    .dataframe tbody tr th:only-of-type {\n",
       "        vertical-align: middle;\n",
       "    }\n",
       "\n",
       "    .dataframe tbody tr th {\n",
       "        vertical-align: top;\n",
       "    }\n",
       "\n",
       "    .dataframe thead th {\n",
       "        text-align: right;\n",
       "    }\n",
       "</style>\n",
       "<table border=\"1\" class=\"dataframe\">\n",
       "  <thead>\n",
       "    <tr style=\"text-align: right;\">\n",
       "      <th></th>\n",
       "      <th>Country</th>\n",
       "      <th>LanguageWorkedWith</th>\n",
       "      <th>ConvertedComp</th>\n",
       "    </tr>\n",
       "  </thead>\n",
       "  <tbody>\n",
       "    <tr>\n",
       "      <th>5</th>\n",
       "      <td>Canada</td>\n",
       "      <td>Java;R;SQL</td>\n",
       "      <td>366420.0</td>\n",
       "    </tr>\n",
       "    <tr>\n",
       "      <th>8</th>\n",
       "      <td>New Zealand</td>\n",
       "      <td>Bash/Shell/PowerShell;C#;HTML/CSS;JavaScript;P...</td>\n",
       "      <td>95179.0</td>\n",
       "    </tr>\n",
       "    <tr>\n",
       "      <th>12</th>\n",
       "      <td>United States</td>\n",
       "      <td>Bash/Shell/PowerShell;HTML/CSS;JavaScript;PHP;...</td>\n",
       "      <td>90000.0</td>\n",
       "    </tr>\n",
       "    <tr>\n",
       "      <th>15</th>\n",
       "      <td>United Kingdom</td>\n",
       "      <td>Bash/Shell/PowerShell;C#;HTML/CSS;JavaScript;T...</td>\n",
       "      <td>455352.0</td>\n",
       "    </tr>\n",
       "    <tr>\n",
       "      <th>21</th>\n",
       "      <td>United States</td>\n",
       "      <td>Bash/Shell/PowerShell;C++;HTML/CSS;JavaScript;...</td>\n",
       "      <td>103000.0</td>\n",
       "    </tr>\n",
       "    <tr>\n",
       "      <th>...</th>\n",
       "      <td>...</td>\n",
       "      <td>...</td>\n",
       "      <td>...</td>\n",
       "    </tr>\n",
       "    <tr>\n",
       "      <th>8464</th>\n",
       "      <td>Sweden</td>\n",
       "      <td>C;C#;Java;JavaScript;Python;SQL</td>\n",
       "      <td>79536.0</td>\n",
       "    </tr>\n",
       "    <tr>\n",
       "      <th>8468</th>\n",
       "      <td>United States</td>\n",
       "      <td>Bash/Shell/PowerShell;Python;R;SQL</td>\n",
       "      <td>80000.0</td>\n",
       "    </tr>\n",
       "    <tr>\n",
       "      <th>8471</th>\n",
       "      <td>United Kingdom</td>\n",
       "      <td>HTML/CSS;Java;JavaScript;Kotlin;Python;Scala;T...</td>\n",
       "      <td>91593.0</td>\n",
       "    </tr>\n",
       "    <tr>\n",
       "      <th>8487</th>\n",
       "      <td>France</td>\n",
       "      <td>C#;HTML/CSS;Java;JavaScript;PHP;SQL</td>\n",
       "      <td>378096.0</td>\n",
       "    </tr>\n",
       "    <tr>\n",
       "      <th>8489</th>\n",
       "      <td>United States</td>\n",
       "      <td>Bash/Shell/PowerShell;C;C++;HTML/CSS;Java;Java...</td>\n",
       "      <td>105000.0</td>\n",
       "    </tr>\n",
       "  </tbody>\n",
       "</table>\n",
       "<p>2125 rows × 3 columns</p>\n",
       "</div>"
      ],
      "text/plain": [
       "             Country                                 LanguageWorkedWith  \\\n",
       "5             Canada                                         Java;R;SQL   \n",
       "8        New Zealand  Bash/Shell/PowerShell;C#;HTML/CSS;JavaScript;P...   \n",
       "12     United States  Bash/Shell/PowerShell;HTML/CSS;JavaScript;PHP;...   \n",
       "15    United Kingdom  Bash/Shell/PowerShell;C#;HTML/CSS;JavaScript;T...   \n",
       "21     United States  Bash/Shell/PowerShell;C++;HTML/CSS;JavaScript;...   \n",
       "...              ...                                                ...   \n",
       "8464          Sweden                    C;C#;Java;JavaScript;Python;SQL   \n",
       "8468   United States                 Bash/Shell/PowerShell;Python;R;SQL   \n",
       "8471  United Kingdom  HTML/CSS;Java;JavaScript;Kotlin;Python;Scala;T...   \n",
       "8487          France                C#;HTML/CSS;Java;JavaScript;PHP;SQL   \n",
       "8489   United States  Bash/Shell/PowerShell;C;C++;HTML/CSS;Java;Java...   \n",
       "\n",
       "      ConvertedComp  \n",
       "5          366420.0  \n",
       "8           95179.0  \n",
       "12          90000.0  \n",
       "15         455352.0  \n",
       "21         103000.0  \n",
       "...             ...  \n",
       "8464        79536.0  \n",
       "8468        80000.0  \n",
       "8471        91593.0  \n",
       "8487       378096.0  \n",
       "8489       105000.0  \n",
       "\n",
       "[2125 rows x 3 columns]"
      ]
     },
     "execution_count": 14,
     "metadata": {},
     "output_type": "execute_result"
    }
   ],
   "source": [
    "df_public.loc[high_salary, ['Country', 'LanguageWorkedWith', 'ConvertedComp']]"
   ]
  },
  {
   "cell_type": "code",
   "execution_count": 25,
   "metadata": {},
   "outputs": [],
   "source": [
    "countries = 'United States', 'Canada'"
   ]
  },
  {
   "cell_type": "code",
   "execution_count": 26,
   "metadata": {},
   "outputs": [],
   "source": [
    "filt2 = df_public['Country'].isin(countries)"
   ]
  },
  {
   "cell_type": "code",
   "execution_count": 31,
   "metadata": {},
   "outputs": [
    {
     "data": {
      "text/html": [
       "<div>\n",
       "<style scoped>\n",
       "    .dataframe tbody tr th:only-of-type {\n",
       "        vertical-align: middle;\n",
       "    }\n",
       "\n",
       "    .dataframe tbody tr th {\n",
       "        vertical-align: top;\n",
       "    }\n",
       "\n",
       "    .dataframe thead th {\n",
       "        text-align: right;\n",
       "    }\n",
       "</style>\n",
       "<table border=\"1\" class=\"dataframe\">\n",
       "  <thead>\n",
       "    <tr style=\"text-align: right;\">\n",
       "      <th></th>\n",
       "      <th>Country</th>\n",
       "      <th>LanguageWorkedWith</th>\n",
       "    </tr>\n",
       "  </thead>\n",
       "  <tbody>\n",
       "    <tr>\n",
       "      <th>3</th>\n",
       "      <td>United States</td>\n",
       "      <td>C;C++;C#;Python;SQL</td>\n",
       "    </tr>\n",
       "    <tr>\n",
       "      <th>5</th>\n",
       "      <td>Canada</td>\n",
       "      <td>Java;R;SQL</td>\n",
       "    </tr>\n",
       "    <tr>\n",
       "      <th>11</th>\n",
       "      <td>Canada</td>\n",
       "      <td>Bash/Shell/PowerShell;HTML/CSS;Java;Python;R;SQL</td>\n",
       "    </tr>\n",
       "    <tr>\n",
       "      <th>12</th>\n",
       "      <td>United States</td>\n",
       "      <td>Bash/Shell/PowerShell;HTML/CSS;JavaScript;PHP;...</td>\n",
       "    </tr>\n",
       "    <tr>\n",
       "      <th>20</th>\n",
       "      <td>Canada</td>\n",
       "      <td>Assembly;Bash/Shell/PowerShell;C;C++;Go;Java;J...</td>\n",
       "    </tr>\n",
       "    <tr>\n",
       "      <th>...</th>\n",
       "      <td>...</td>\n",
       "      <td>...</td>\n",
       "    </tr>\n",
       "    <tr>\n",
       "      <th>8466</th>\n",
       "      <td>United States</td>\n",
       "      <td>Bash/Shell/PowerShell;HTML/CSS;JavaScript;PHP;SQL</td>\n",
       "    </tr>\n",
       "    <tr>\n",
       "      <th>8468</th>\n",
       "      <td>United States</td>\n",
       "      <td>Bash/Shell/PowerShell;Python;R;SQL</td>\n",
       "    </tr>\n",
       "    <tr>\n",
       "      <th>8477</th>\n",
       "      <td>United States</td>\n",
       "      <td>Bash/Shell/PowerShell;C;Go;JavaScript;Python</td>\n",
       "    </tr>\n",
       "    <tr>\n",
       "      <th>8489</th>\n",
       "      <td>United States</td>\n",
       "      <td>Bash/Shell/PowerShell;C;C++;HTML/CSS;Java;Java...</td>\n",
       "    </tr>\n",
       "    <tr>\n",
       "      <th>8490</th>\n",
       "      <td>United States</td>\n",
       "      <td>Bash/Shell/PowerShell;Python;R</td>\n",
       "    </tr>\n",
       "  </tbody>\n",
       "</table>\n",
       "<p>2288 rows × 2 columns</p>\n",
       "</div>"
      ],
      "text/plain": [
       "            Country                                 LanguageWorkedWith\n",
       "3     United States                                C;C++;C#;Python;SQL\n",
       "5            Canada                                         Java;R;SQL\n",
       "11           Canada   Bash/Shell/PowerShell;HTML/CSS;Java;Python;R;SQL\n",
       "12    United States  Bash/Shell/PowerShell;HTML/CSS;JavaScript;PHP;...\n",
       "20           Canada  Assembly;Bash/Shell/PowerShell;C;C++;Go;Java;J...\n",
       "...             ...                                                ...\n",
       "8466  United States  Bash/Shell/PowerShell;HTML/CSS;JavaScript;PHP;SQL\n",
       "8468  United States                 Bash/Shell/PowerShell;Python;R;SQL\n",
       "8477  United States       Bash/Shell/PowerShell;C;Go;JavaScript;Python\n",
       "8489  United States  Bash/Shell/PowerShell;C;C++;HTML/CSS;Java;Java...\n",
       "8490  United States                     Bash/Shell/PowerShell;Python;R\n",
       "\n",
       "[2288 rows x 2 columns]"
      ]
     },
     "execution_count": 31,
     "metadata": {},
     "output_type": "execute_result"
    }
   ],
   "source": [
    "df_public.loc[filt2,['Country','LanguageWorkedWith']]"
   ]
  },
  {
   "cell_type": "code",
   "execution_count": 33,
   "metadata": {},
   "outputs": [],
   "source": [
    "filt3 = df_public['LanguageWorkedWith'].str.contains('Python', na=False)"
   ]
  },
  {
   "cell_type": "code",
   "execution_count": 36,
   "metadata": {},
   "outputs": [
    {
     "data": {
      "text/plain": [
       "0                         HTML/CSS;Java;JavaScript;Python\n",
       "1                                     C++;HTML/CSS;Python\n",
       "3                                     C;C++;C#;Python;SQL\n",
       "4             C++;HTML/CSS;Java;JavaScript;Python;SQL;VBA\n",
       "7       Bash/Shell/PowerShell;C;C++;HTML/CSS;Java;Java...\n",
       "                              ...                        \n",
       "8475    Bash/Shell/PowerShell;C;Go;Java;JavaScript;Pyt...\n",
       "8477         Bash/Shell/PowerShell;C;Go;JavaScript;Python\n",
       "8479                                           Python;SQL\n",
       "8489    Bash/Shell/PowerShell;C;C++;HTML/CSS;Java;Java...\n",
       "8490                       Bash/Shell/PowerShell;Python;R\n",
       "Name: LanguageWorkedWith, Length: 3558, dtype: object"
      ]
     },
     "execution_count": 36,
     "metadata": {},
     "output_type": "execute_result"
    }
   ],
   "source": [
    "df_public.loc[filt3, 'LanguageWorkedWith']"
   ]
  },
  {
   "cell_type": "code",
   "execution_count": 40,
   "metadata": {},
   "outputs": [
    {
     "data": {
      "text/plain": [
       "2       HTML/CSS\n",
       "30        Python\n",
       "44        Python\n",
       "130         Java\n",
       "205         Java\n",
       "          ...   \n",
       "8327        Java\n",
       "8340        Java\n",
       "8341      Python\n",
       "8424      Python\n",
       "8457        Java\n",
       "Name: LanguageWorkedWith, Length: 171, dtype: object"
      ]
     },
     "execution_count": 40,
     "metadata": {},
     "output_type": "execute_result"
    }
   ],
   "source": [
    "language = \"Python\", 'HTML/CSS', 'Java', 'Go'\n",
    "filt4 = df_public['LanguageWorkedWith'].isin(language)\n",
    "df_public.loc[filt4, 'LanguageWorkedWith']"
   ]
  },
  {
   "cell_type": "code",
   "execution_count": null,
   "metadata": {},
   "outputs": [],
   "source": []
  }
 ],
 "metadata": {
  "kernelspec": {
   "display_name": "Python",
   "language": "python",
   "name": "conda-env-python-py"
  },
  "language_info": {
   "codemirror_mode": {
    "name": "ipython",
    "version": 3
   },
   "file_extension": ".py",
   "mimetype": "text/x-python",
   "name": "python",
   "nbconvert_exporter": "python",
   "pygments_lexer": "ipython3",
   "version": "3.6.10"
  }
 },
 "nbformat": 4,
 "nbformat_minor": 4
}
